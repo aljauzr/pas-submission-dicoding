{
  "nbformat": 4,
  "nbformat_minor": 0,
  "metadata": {
    "colab": {
      "provenance": []
    },
    "kernelspec": {
      "name": "python3",
      "display_name": "Python 3"
    },
    "language_info": {
      "name": "python"
    }
  },
  "cells": [
    {
      "cell_type": "markdown",
      "source": [
        "**Import Library**"
      ],
      "metadata": {
        "id": "ilYEe4hRmaoD"
      }
    },
    {
      "cell_type": "code",
      "execution_count": 1,
      "metadata": {
        "colab": {
          "base_uri": "https://localhost:8080/"
        },
        "id": "Bngi7tXxmXkw",
        "outputId": "3f9eb322-a40c-4437-870c-6a8ba0aaa30a"
      },
      "outputs": [
        {
          "output_type": "stream",
          "name": "stdout",
          "text": [
            "Collecting google-play-scraper\n",
            "  Downloading google_play_scraper-1.2.7-py3-none-any.whl.metadata (50 kB)\n",
            "\u001b[?25l     \u001b[90m━━━━━━━━━━━━━━━━━━━━━━━━━━━━━━━━━━━━━━━━\u001b[0m \u001b[32m0.0/50.2 kB\u001b[0m \u001b[31m?\u001b[0m eta \u001b[36m-:--:--\u001b[0m\r\u001b[2K     \u001b[90m━━━━━━━━━━━━━━━━━━━━━━━━━━━━━━━━━━━━━━━━\u001b[0m \u001b[32m50.2/50.2 kB\u001b[0m \u001b[31m1.1 MB/s\u001b[0m eta \u001b[36m0:00:00\u001b[0m\n",
            "\u001b[?25hDownloading google_play_scraper-1.2.7-py3-none-any.whl (28 kB)\n",
            "Installing collected packages: google-play-scraper\n",
            "Successfully installed google-play-scraper-1.2.7\n"
          ]
        }
      ],
      "source": [
        "!pip install google-play-scraper\n",
        "\n",
        "# Mengimpor pustaka google_play_scraper untuk mengakses ulasan dan informasi aplikasi dari Google Play Store.\n",
        "from google_play_scraper import app, reviews, Sort, reviews_all\n",
        "from sklearn.metrics import accuracy_score\n",
        "import pandas as pd  # Pandas untuk manipulasi dan analisis data\n",
        "import matplotlib.pyplot as plt  # Matplotlib untuk visualisasi data\n",
        "import seaborn as sns  # Seaborn untuk visualisasi data statistik, mengatur gaya visualisasi\n",
        "import numpy as np  # NumPy untuk komputasi numerik\n",
        "import datetime as dt  # Manipulasi data waktu dan tanggal\n",
        "import csv # Menyimpan ulasan dalam file CSV\n",
        "\n",
        "pd.options.mode.chained_assignment = None  # Menonaktifkan peringatan chaining\n",
        "seed = 0\n",
        "np.random.seed(seed)  # Mengatur seed untuk reproduktibilitas\n"
      ]
    },
    {
      "cell_type": "markdown",
      "source": [
        "**Scraping Dataset**"
      ],
      "metadata": {
        "id": "fSIgidgomdjT"
      }
    },
    {
      "cell_type": "code",
      "source": [
        "# Mengambil maksimum 10.000 ulasan dari aplikasi dengan ID 'com.block.juggle' (Block Blast!)\n",
        "result, _ = reviews(\n",
        "    'com.block.juggle',     # ID aplikasi\n",
        "    lang='id',              # Bahasa ulasan\n",
        "    country='id',           # Negara\n",
        "    sort=Sort.MOST_RELEVANT, # Urutan ulasan\n",
        "    count=10000             # Jumlah maksimum ulasan\n",
        ")\n",
        "\n",
        "# Simpan ke CSV\n",
        "with open('ulasan_aplikasi.csv', mode='w', newline='', encoding='utf-8') as file:\n",
        "    writer = csv.writer(file)\n",
        "    writer.writerow(['Review'])  # Header kolom\n",
        "    for review in result:\n",
        "        writer.writerow([review['content']])  # Tulis hanya isi ulasan"
      ],
      "metadata": {
        "id": "rQKLxgqemeCE"
      },
      "execution_count": 4,
      "outputs": []
    }
  ]
}