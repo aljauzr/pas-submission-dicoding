{
  "nbformat": 4,
  "nbformat_minor": 0,
  "metadata": {
    "colab": {
      "provenance": []
    },
    "kernelspec": {
      "name": "python3",
      "display_name": "Python 3"
    },
    "language_info": {
      "name": "python"
    }
  },
  "cells": [
    {
      "cell_type": "markdown",
      "source": [
        "**Import Library**"
      ],
      "metadata": {
        "id": "ilYEe4hRmaoD"
      }
    },
    {
      "cell_type": "code",
      "execution_count": 5,
      "metadata": {
        "colab": {
          "base_uri": "https://localhost:8080/"
        },
        "id": "Bngi7tXxmXkw",
        "outputId": "53c51c62-3291-445e-d08d-3c4ecc3972d6"
      },
      "outputs": [
        {
          "output_type": "stream",
          "name": "stdout",
          "text": [
            "Requirement already satisfied: google-play-scraper in /usr/local/lib/python3.11/dist-packages (1.2.7)\n"
          ]
        }
      ],
      "source": [
        "!pip install google-play-scraper\n",
        "\n",
        "# Mengimpor pustaka google_play_scraper untuk mengakses ulasan dan informasi aplikasi dari Google Play Store.\n",
        "from google_play_scraper import app, reviews, Sort, reviews_all\n",
        "import csv # Menyimpan ulasan dalam file CSV"
      ]
    },
    {
      "cell_type": "markdown",
      "source": [
        "**Scraping Dataset**"
      ],
      "metadata": {
        "id": "fSIgidgomdjT"
      }
    },
    {
      "cell_type": "code",
      "source": [
        "# Mengambil maksimum 10.000 ulasan dari aplikasi dengan ID 'com.block.juggle' (Block Blast!)\n",
        "result, _ = reviews(\n",
        "    'com.block.juggle',     # ID aplikasi\n",
        "    lang='id',              # Bahasa ulasan\n",
        "    country='id',           # Negara\n",
        "    sort=Sort.MOST_RELEVANT, # Urutan ulasan\n",
        "    count=10000             # Jumlah maksimum ulasan\n",
        ")\n",
        "\n",
        "# Simpan ke CSV\n",
        "with open('ulasan_aplikasi.csv', mode='w', newline='', encoding='utf-8') as file:\n",
        "    writer = csv.writer(file)\n",
        "    writer.writerow(['Review'])  # Header kolom\n",
        "    for review in result:\n",
        "        writer.writerow([review['content']])  # Tulis hanya isi ulasan"
      ],
      "metadata": {
        "id": "rQKLxgqemeCE"
      },
      "execution_count": 6,
      "outputs": []
    }
  ]
}